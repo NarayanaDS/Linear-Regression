{
 "cells": [
  {
   "cell_type": "code",
   "execution_count": 1,
   "metadata": {},
   "outputs": [],
   "source": [
    "import pandas as pd\n",
    "import numpy as np\n",
    "import matplotlib.pyplot as plt\n",
    "import seaborn as sns"
   ]
  },
  {
   "cell_type": "code",
   "execution_count": 3,
   "metadata": {},
   "outputs": [],
   "source": [
    "var = pd.read_csv('E://MachineLearning-examples/Data-Sets-master/Cars.csv')"
   ]
  },
  {
   "cell_type": "code",
   "execution_count": 4,
   "metadata": {},
   "outputs": [
    {
     "name": "stdout",
     "output_type": "stream",
     "text": [
      "   HP        MPG  VOL          SP         WT\n",
      "0  49  53.700681   89  104.185353  28.762059\n",
      "1  55  50.013401   92  105.461264  30.466833\n",
      "2  55  50.013401   92  105.461264  30.193597\n",
      "3  70  45.696322   92  113.461264  30.632114\n",
      "4  53  50.504232   92  104.461264  29.889149\n"
     ]
    }
   ],
   "source": [
    "print(var.head())"
   ]
  },
  {
   "cell_type": "code",
   "execution_count": 5,
   "metadata": {},
   "outputs": [],
   "source": [
    "import statsmodels.formula.api as smf"
   ]
  },
  {
   "cell_type": "code",
   "execution_count": 6,
   "metadata": {},
   "outputs": [],
   "source": [
    "model=smf.ols('MPG~HP+VOL+SP+WT',data=var).fit()"
   ]
  },
  {
   "cell_type": "code",
   "execution_count": 8,
   "metadata": {},
   "outputs": [
    {
     "name": "stdout",
     "output_type": "stream",
     "text": [
      "                            OLS Regression Results                            \n",
      "==============================================================================\n",
      "Dep. Variable:                    MPG   R-squared:                       0.771\n",
      "Model:                            OLS   Adj. R-squared:                  0.758\n",
      "Method:                 Least Squares   F-statistic:                     63.80\n",
      "Date:                Mon, 09 Mar 2020   Prob (F-statistic):           1.54e-23\n",
      "Time:                        13:24:44   Log-Likelihood:                -233.96\n",
      "No. Observations:                  81   AIC:                             477.9\n",
      "Df Residuals:                      76   BIC:                             489.9\n",
      "Df Model:                           4                                         \n",
      "Covariance Type:            nonrobust                                         \n",
      "==============================================================================\n",
      "                 coef    std err          t      P>|t|      [0.025      0.975]\n",
      "------------------------------------------------------------------------------\n",
      "Intercept     30.6773     14.900      2.059      0.043       1.001      60.354\n",
      "HP            -0.2054      0.039     -5.239      0.000      -0.284      -0.127\n",
      "VOL           -0.3361      0.569     -0.591      0.556      -1.469       0.796\n",
      "SP             0.3956      0.158      2.500      0.015       0.080       0.711\n",
      "WT             0.4006      1.693      0.237      0.814      -2.972       3.773\n",
      "==============================================================================\n",
      "Omnibus:                       10.780   Durbin-Watson:                   1.403\n",
      "Prob(Omnibus):                  0.005   Jarque-Bera (JB):               11.722\n",
      "Skew:                           0.707   Prob(JB):                      0.00285\n",
      "Kurtosis:                       4.215   Cond. No.                     6.09e+03\n",
      "==============================================================================\n",
      "\n",
      "Warnings:\n",
      "[1] Standard Errors assume that the covariance matrix of the errors is correctly specified.\n",
      "[2] The condition number is large, 6.09e+03. This might indicate that there are\n",
      "strong multicollinearity or other numerical problems.\n"
     ]
    }
   ],
   "source": [
    "print(model.summary())"
   ]
  },
  {
   "cell_type": "code",
   "execution_count": 9,
   "metadata": {},
   "outputs": [
    {
     "name": "stdout",
     "output_type": "stream",
     "text": [
      "Intercept    30.677336\n",
      "HP           -0.205444\n",
      "VOL          -0.336051\n",
      "SP            0.395627\n",
      "WT            0.400574\n",
      "dtype: float64\n"
     ]
    }
   ],
   "source": [
    "print(model.params)"
   ]
  },
  {
   "cell_type": "code",
   "execution_count": null,
   "metadata": {},
   "outputs": [],
   "source": []
  }
 ],
 "metadata": {
  "kernelspec": {
   "display_name": "Python 3",
   "language": "python",
   "name": "python3"
  },
  "language_info": {
   "codemirror_mode": {
    "name": "ipython",
    "version": 3
   },
   "file_extension": ".py",
   "mimetype": "text/x-python",
   "name": "python",
   "nbconvert_exporter": "python",
   "pygments_lexer": "ipython3",
   "version": "3.7.1"
  }
 },
 "nbformat": 4,
 "nbformat_minor": 2
}
